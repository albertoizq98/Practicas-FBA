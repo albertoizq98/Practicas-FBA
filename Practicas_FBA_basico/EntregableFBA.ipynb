{
 "cells": [
  {
   "cell_type": "code",
   "execution_count": null,
   "metadata": {},
   "outputs": [],
   "source": [
    "import cobra\n",
    "import numpy as np\n",
    "import scipy as sc\n",
    "import cobra.test\n",
    "model=cobra.test.create_test_model(\"textbook\")"
   ]
  },
  {
   "cell_type": "code",
   "execution_count": null,
   "metadata": {},
   "outputs": [],
   "source": [
    "import tools\n",
    "model=tools.desdoblar(model,\"desdoblado\")"
   ]
  },
  {
   "cell_type": "code",
   "execution_count": null,
   "metadata": {},
   "outputs": [],
   "source": [
    "tipos=tools.tiposReaccionesD(model)\n",
    "reversibles=tipos[0]\n",
    "irreversibles=tipos[1]"
   ]
  },
  {
   "cell_type": "code",
   "execution_count": null,
   "metadata": {},
   "outputs": [],
   "source": [
    "S=cobra.util.create_stoichiometric_matrix(model,array_type=\"dense\")\n",
    "irreversibles_i=[]\n",
    "model=tools.removeDeadEnds(model,S,reversibles,irreversibles,irreversibles_i)"
   ]
  },
  {
   "cell_type": "code",
   "execution_count": null,
   "metadata": {},
   "outputs": [],
   "source": [
    "#Restricciones que le pongo\n",
    "\n",
    "coeficientes=dict()\n",
    "for i in irreversibles:\n",
    "    r=model.reactions[i]\n",
    "    coeficientes[r.forward_variable]=1\n",
    "constraint=model.problem.Constraint(0,lb=1,ub=1)\n",
    "model.add_cons_vars(constraint)\n",
    "model.solver.update()\n",
    "constraint.set_linear_coefficients(coefficients=coeficientes)"
   ]
  },
  {
   "cell_type": "code",
   "execution_count": null,
   "metadata": {},
   "outputs": [],
   "source": [
    "#Coger la función\n",
    "\n",
    "lista= np.ones(len(model.reactions))\n",
    "valores=dict()\n",
    "for i in range(len(lista)):\n",
    "    r=model.reactions[i]\n",
    "    valores[r]=lista[i]\n",
    "model.objective=valores"
   ]
  },
  {
   "cell_type": "code",
   "execution_count": null,
   "metadata": {},
   "outputs": [],
   "source": [
    "#Calcular la solucion del EFM\n",
    "solucion=model.optimize(objective_sense=\"minimize\")\n",
    "valores=solucion.fluxes.values\n"
   ]
  },
  {
   "cell_type": "code",
   "execution_count": null,
   "metadata": {},
   "outputs": [],
   "source": [
    "#Chequear si la EFM es una EFM\n",
    "tools.check(valores,S)\n",
    "\n"
   ]
  },
  {
   "cell_type": "code",
   "execution_count": null,
   "metadata": {
    "scrolled": true
   },
   "outputs": [],
   "source": [
    "EFMS_utiles=tools.calculoEFM_test(model, irreversibles,S,1000)"
   ]
  },
  {
   "cell_type": "code",
   "execution_count": null,
   "metadata": {},
   "outputs": [],
   "source": [
    "lista_estadistica=[]\n",
    "for i in EFMS_utiles:\n",
    "    lista_estadistica.append(len(i))"
   ]
  },
  {
   "cell_type": "code",
   "execution_count": null,
   "metadata": {},
   "outputs": [],
   "source": [
    "cantidad=len(lista_estadistica)\n",
    "print(\"La cantidad de EFMs es:\", cantidad)"
   ]
  },
  {
   "cell_type": "code",
   "execution_count": null,
   "metadata": {},
   "outputs": [],
   "source": [
    "#Media\n",
    "media=np.mean(lista_estadistica)\n",
    "print(\"La media es:\", media)\n",
    "\n",
    "\n",
    "\n",
    "\n"
   ]
  },
  {
   "cell_type": "code",
   "execution_count": null,
   "metadata": {},
   "outputs": [],
   "source": [
    "#Varianza\n",
    "varianza=np.var(lista_estadistica)\n",
    "print(\"La varianza es:\", varianza)"
   ]
  },
  {
   "cell_type": "code",
   "execution_count": null,
   "metadata": {},
   "outputs": [],
   "source": [
    "#Desviación típica\n",
    "desviacion=np.std(lista_estadistica)\n",
    "print(\"La desviacion tipica es:\", desviacion)"
   ]
  },
  {
   "cell_type": "code",
   "execution_count": null,
   "metadata": {},
   "outputs": [],
   "source": [
    "#Mediana\n",
    "mediana=np.median(lista_estadistica)\n",
    "print(\"La mediana es:\", mediana)"
   ]
  },
  {
   "cell_type": "code",
   "execution_count": null,
   "metadata": {},
   "outputs": [],
   "source": [
    "import matplotlib.pyplot as plt\n",
    "\n",
    "#Histograma\n",
    "plt.hist(lista_estadistica)\n",
    "\n",
    "plt.savefig('Histograma_basico.png')\n"
   ]
  },
  {
   "cell_type": "code",
   "execution_count": null,
   "metadata": {},
   "outputs": [],
   "source": [
    "#Boxplot\n",
    "plt.boxplot(lista_estadistica)\n",
    "\n",
    "plt.savefig('Boxplot_basico.png')"
   ]
  },
  {
   "cell_type": "code",
   "execution_count": null,
   "metadata": {},
   "outputs": [],
   "source": [
    "cuenta=[]\n",
    "lista_incrementado=[]\n",
    "for i in lista_estadistica:\n",
    "    cuenta.append(i)\n",
    "    lista_incrementado.append(np.mean(cuenta))\n",
    "plt.plot(lista_incrementado)\n",
    "\n",
    "plt.savefig('Plotmedias_basico.png')\n"
   ]
  }
 ],
 "metadata": {
  "kernelspec": {
   "display_name": "Python 3.6",
   "language": "python",
   "name": "python3.6"
  },
  "language_info": {
   "codemirror_mode": {
    "name": "ipython",
    "version": 3
   },
   "file_extension": ".py",
   "mimetype": "text/x-python",
   "name": "python",
   "nbconvert_exporter": "python",
   "pygments_lexer": "ipython3",
   "version": "3.6.8"
  }
 },
 "nbformat": 4,
 "nbformat_minor": 4
}
