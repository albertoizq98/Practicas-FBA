{
 "cells": [
  {
   "cell_type": "code",
   "execution_count": null,
   "metadata": {},
   "outputs": [],
   "source": [
    "import cobra\n",
    "import numpy as np\n",
    "import scipy as sc\n",
    "import cobra.test\n",
    "model=cobra.test.create_test_model(\"textbook\")"
   ]
  },
  {
   "cell_type": "code",
   "execution_count": null,
   "metadata": {},
   "outputs": [],
   "source": [
    "import tools\n",
    "model=tools.desdoblar(model,\"desdoblado\")"
   ]
  },
  {
   "cell_type": "code",
   "execution_count": null,
   "metadata": {},
   "outputs": [],
   "source": [
    "tipos=tools.tiposReaccionesD(model)\n",
    "reversibles=tipos[0]\n",
    "irreversibles=tipos[1]"
   ]
  },
  {
   "cell_type": "code",
   "execution_count": null,
   "metadata": {},
   "outputs": [],
   "source": [
    "S=cobra.util.create_stoichiometric_matrix(model,array_type=\"dense\")\n",
    "irreversibles_i=[]\n",
    "model=tools.removeDeadEnds(model,S,reversibles,irreversibles,irreversibles_i)"
   ]
  },
  {
   "cell_type": "code",
   "execution_count": null,
   "metadata": {},
   "outputs": [],
   "source": [
    "#Restricciones que le pongo\n",
    "\n",
    "coeficientes=dict()\n",
    "for i in irreversibles:\n",
    "    r=model.reactions[i]\n",
    "    coeficientes[r.forward_variable]=1\n",
    "constraint=model.problem.Constraint(0,lb=1,ub=1)\n",
    "model.add_cons_vars(constraint)\n",
    "model.solver.update()\n",
    "constraint.set_linear_coefficients(coefficients=coeficientes)"
   ]
  },
  {
   "cell_type": "code",
   "execution_count": null,
   "metadata": {},
   "outputs": [],
   "source": [
    "#Coger la función\n",
    "\n",
    "lista= np.ones(len(model.reactions))\n",
    "valores=dict()\n",
    "for i in range(len(lista)):\n",
    "    r=model.reactions[i]\n",
    "    valores[r]=lista[i]\n",
    "model.objective=valores"
   ]
  },
  {
   "cell_type": "code",
   "execution_count": null,
   "metadata": {},
   "outputs": [],
   "source": [
    "#Calcular la solucion del EFM\n",
    "solucion=model.optimize(objective_sense=\"minimize\")\n",
    "valores=solucion.fluxes.values\n"
   ]
  },
  {
   "cell_type": "code",
   "execution_count": null,
   "metadata": {},
   "outputs": [],
   "source": [
    "#Chequear si la EFM es una EFM\n",
    "tools.check(valores,S)\n",
    "\n"
   ]
  },
  {
   "cell_type": "code",
   "execution_count": null,
   "metadata": {},
   "outputs": [],
   "source": [
    "EFMS=[]\n",
    "for i in range(1):\n",
    "    coeficientes=dict()\n",
    "    irreversibles_select= np.random.choice(irreversibles,10,replace=False)\n",
    "    for i in irreversibles_select:\n",
    "        r=model.reactions[i]\n",
    "        coeficientes[r.forward_variable]=np.random.rand()\n",
    "    constraint=model.problem.Constraint(0,lb=1,ub=1)\n",
    "    model.add_cons_vars(constraint)\n",
    "    model.solver.update()\n",
    "    constraint.set_linear_coefficients(coefficients=coeficientes)\n",
    "    lista= np.random.rand(len(model.reactions))\n",
    "    valores=dict()\n",
    "    for i in range(len(lista)):\n",
    "        r=model.reactions[i]\n",
    "        valores[r]=lista[i]\n",
    "    model.objective=valores\n",
    "    solucion1=model.optimize(objective_sense=\"minimize\")\n",
    "    valores=solucion1.fluxes.values\n",
    "    soporte=[]\n",
    "    noSoporte=[]\n",
    "    for i in range(len(valores)):\n",
    "        if valores[i]==0:\n",
    "            noSoporte.append(i)\n",
    "        else:\n",
    "            soporte.append(i)\n",
    "    reaccionesActivas=len(soporte)\n",
    "    S1=np.delete(S,noSoporte,1)\n",
    "    numeroEcuaciones=np.linalg.matrix_rank(S1)\n",
    "    if (reaccionesActivas == numeroEcuaciones+1):\n",
    "        print(\"TRUE\")\n",
    "        if soporte not in EFMS:\n",
    "            EFMS.append(soporte)\n",
    "    model.remove_cons_vars(constraint)"
   ]
  },
  {
   "cell_type": "code",
   "execution_count": null,
   "metadata": {},
   "outputs": [],
   "source": [
    "import pandas\n",
    "sol=pandas.DataFrame.from_dict([solucion.fluxes]).T\n",
    "sol.to_csv('EFM_FBA.csv')"
   ]
  }
 ],
 "metadata": {
  "kernelspec": {
   "display_name": "Python 3.6",
   "language": "python",
   "name": "python3.6"
  },
  "language_info": {
   "codemirror_mode": {
    "name": "ipython",
    "version": 3
   },
   "file_extension": ".py",
   "mimetype": "text/x-python",
   "name": "python",
   "nbconvert_exporter": "python",
   "pygments_lexer": "ipython3",
   "version": "3.6.8"
  }
 },
 "nbformat": 4,
 "nbformat_minor": 4
}
